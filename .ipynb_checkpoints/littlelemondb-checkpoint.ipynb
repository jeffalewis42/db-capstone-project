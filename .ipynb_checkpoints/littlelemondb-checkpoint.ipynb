{
 "cells": [
  {
   "cell_type": "code",
   "execution_count": 1,
   "id": "e5156639-3879-4214-b5ab-8c642cb69dce",
   "metadata": {},
   "outputs": [
    {
     "name": "stdout",
     "output_type": "stream",
     "text": [
      "importing mysql.connector\n"
     ]
    }
   ],
   "source": [
    "print('importing mysql.connector')\n",
    "import mysql.connector as connector\n",
    "from mysql.connector import errorcode\n",
    "from decimal import Decimal"
   ]
  },
  {
   "cell_type": "code",
   "execution_count": 2,
   "id": "df7c77b5-7084-4f8c-985b-4d800d5fa0b5",
   "metadata": {},
   "outputs": [
    {
     "name": "stdout",
     "output_type": "stream",
     "text": [
      "connecting to database\n"
     ]
    }
   ],
   "source": [
    "print('connecting to database')\n",
    "try:\n",
    "    connection=connector.connect(\n",
    "        user=\"metaclass\",\n",
    "        password=\"testing\",\n",
    "        db=\"littlelemondb\")\n",
    "\n",
    "except connector.Error as err:\n",
    "    if err.errno == errorcode.ER_ACCESS_DENIED_ERROR:\n",
    "        print(\"connection user or password is incorrect\")\n",
    "    elif err.errno == errorcode.ER_BAD_DB_ERROR:\n",
    "        print(\"database does not exist\")\n",
    "    else:\n",
    "        print(err)"
   ]
  },
  {
   "cell_type": "code",
   "execution_count": 3,
   "id": "578c0baf-2b3b-4153-8c64-fafb9f2af7b6",
   "metadata": {},
   "outputs": [
    {
     "name": "stdout",
     "output_type": "stream",
     "text": [
      "creating cursor\n"
     ]
    }
   ],
   "source": [
    "print('creating cursor')\n",
    "cursor=connection.cursor()"
   ]
  },
  {
   "cell_type": "code",
   "execution_count": 4,
   "id": "84610200-ec67-4cb4-b1a3-32707aef3b3e",
   "metadata": {},
   "outputs": [],
   "source": [
    "show_tables_query = \"SHOW tables\" \n",
    "cursor.execute(show_tables_query)\n",
    "results=cursor.fetchall()"
   ]
  },
  {
   "cell_type": "code",
   "execution_count": 5,
   "id": "bdc10e2f-f1a7-434a-8b34-02f19ea4f43f",
   "metadata": {},
   "outputs": [
    {
     "name": "stdout",
     "output_type": "stream",
     "text": [
      "('bookings',)\n",
      "('customerbigspend',)\n",
      "('customers',)\n",
      "('delivery',)\n",
      "('menu',)\n",
      "('menuitems',)\n",
      "('orders',)\n",
      "('ordersview',)\n",
      "('popularmenus',)\n",
      "('staff',)\n"
     ]
    }
   ],
   "source": [
    "for each in results:\n",
    "    print(each)"
   ]
  },
  {
   "cell_type": "code",
   "execution_count": 6,
   "id": "19475c7c-5caf-4b44-93e3-f1e8344720ff",
   "metadata": {},
   "outputs": [],
   "source": [
    "customer_promotion_query = \"SELECT customers.CustomerFullName AS Customer, customers.Email AS Email, customers.Phone AS Phone, orders.TotalCost AS Cost FROM customers INNER JOIN orders ON customers.CustomerID = orders.CustomerID WHERE orders.TotalCost > 60; \"\n",
    "cursor.execute(customer_promotion_query)\n",
    "results=cursor.fetchall()"
   ]
  },
  {
   "cell_type": "code",
   "execution_count": 7,
   "id": "fe7e4059-b45a-4ec0-95ef-fb51c05c2292",
   "metadata": {},
   "outputs": [
    {
     "name": "stdout",
     "output_type": "stream",
     "text": [
      "('Customer', 'Email', 'Phone', 'Cost')\n",
      "['Giacopo Bramich', 'gbramich@fake.com', '5653530657', 187.5]\n",
      "['Ashil Brogini', 'abrogini@fake.com', '5720133529', 352.5]\n",
      "['Angel Veschambre', 'aveschambre@fake.com', '5771112020', 112.5]\n",
      "['Arthur Mathewson', 'amathewson@fake.com', '5096888521', 330.0]\n",
      "['Ennis Dungate', 'edungate@fake.com', '5083904691', 315.0]\n",
      "['Mart Malsher', 'mmalsher@fake.com', '5898964591', 465.0]\n",
      "['Audie Willcocks', 'awillcocks@fake.com', '5838004789', 337.5]\n",
      "['Merrill Baudon', 'mbaudon@fake.com', '5738734827', 285.0]\n",
      "['Laney Fadden', 'lfadden@fake.com', '5720557985', 147.0]\n",
      "['Mart Malsher', 'mmalsher@fake.com', '5898964591', 252.41]\n",
      "['Mart Malsher', 'mmalsher@fake.com', '5898964591', 152.4]\n",
      "['Audie Willcocks', 'awillcocks@fake.com', '5838004789', 139.7]\n",
      "['Tasia Fautly', 'tfautly@fake.com', '5809275246', 66.86]\n",
      "['Audie Willcocks', 'awillcocks@fake.com', '5838004789', 137.76]\n"
     ]
    }
   ],
   "source": [
    "columns = cursor.column_names\n",
    "print(columns)\n",
    "output = []\n",
    "for row in results:\n",
    "    row_data = []\n",
    "    for data in row:\n",
    "        if type(data) is Decimal:\n",
    "            row_data.append(float(data))\n",
    "        else:\n",
    "            row_data.append(str(data))\n",
    "        output.append(row_data)\n",
    "    print(row_data)"
   ]
  },
  {
   "cell_type": "code",
   "execution_count": 8,
   "id": "8d3ddcbf-917e-4a45-899d-64ea65adad60",
   "metadata": {},
   "outputs": [
    {
     "name": "stdout",
     "output_type": "stream",
     "text": [
      "closing connection and cursor\n",
      "The cursor is closed.\n",
      "MySQL connection is closed.\n"
     ]
    }
   ],
   "source": [
    "print('closing connection and cursor')\n",
    "if connection.is_connected():\n",
    "    cursor.close()\n",
    "    print(\"The cursor is closed.\")\n",
    "    connection.close()\n",
    "    print(\"MySQL connection is closed.\")\n",
    "else:\n",
    "    print(\"Connection is already closed\")"
   ]
  }
 ],
 "metadata": {
  "kernelspec": {
   "display_name": "Python 3 (ipykernel)",
   "language": "python",
   "name": "python3"
  },
  "language_info": {
   "codemirror_mode": {
    "name": "ipython",
    "version": 3
   },
   "file_extension": ".py",
   "mimetype": "text/x-python",
   "name": "python",
   "nbconvert_exporter": "python",
   "pygments_lexer": "ipython3",
   "version": "3.13.0"
  }
 },
 "nbformat": 4,
 "nbformat_minor": 5
}
